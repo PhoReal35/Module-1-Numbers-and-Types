{
 "cells": [
  {
   "cell_type": "markdown",
   "id": "886df615-549f-47d9-b3d9-dfaf0d98f83e",
   "metadata": {
    "panel-layout": {
     "height": 0,
     "visible": true,
     "width": 100
    }
   },
   "source": [
    "# 3.1: 3600 seconds are in an hour"
   ]
  },
  {
   "cell_type": "code",
   "execution_count": 36,
   "id": "1c2c8a1a-e7ff-4286-8ea5-32d15e983ede",
   "metadata": {},
   "outputs": [
    {
     "name": "stdout",
     "output_type": "stream",
     "text": [
      "3600\n"
     ]
    }
   ],
   "source": [
    "seconds_hour = 60 * 60\n",
    "print(seconds_hour)"
   ]
  },
  {
   "cell_type": "markdown",
   "id": "70caa868-495d-4c0b-97c6-7e05bdce02f9",
   "metadata": {},
   "source": [
    "# 3.2\n"
   ]
  },
  {
   "cell_type": "code",
   "execution_count": 37,
   "id": "06434185-d78f-4612-a6e3-940f814f67df",
   "metadata": {},
   "outputs": [],
   "source": [
    "seconds_per_hour = seconds_hour"
   ]
  },
  {
   "cell_type": "markdown",
   "id": "795de28e-de63-4253-bc68-7efc0a566d83",
   "metadata": {},
   "source": [
    "# 3.3: 86,400 seconds per day"
   ]
  },
  {
   "cell_type": "code",
   "execution_count": 38,
   "id": "9c0fdf66-2712-4c1f-bff5-0405c88dde99",
   "metadata": {},
   "outputs": [
    {
     "name": "stdout",
     "output_type": "stream",
     "text": [
      "86400\n"
     ]
    }
   ],
   "source": [
    "print(seconds_per_hour * 24)"
   ]
  },
  {
   "cell_type": "markdown",
   "id": "5b41cb32-aea8-40c0-8e41-a703f12dff2b",
   "metadata": {},
   "source": [
    "# 3.4: 86,400"
   ]
  },
  {
   "cell_type": "code",
   "execution_count": 39,
   "id": "3056d40e-9bfa-48a3-93f4-72faa382a5c9",
   "metadata": {},
   "outputs": [
    {
     "name": "stdout",
     "output_type": "stream",
     "text": [
      "86400\n"
     ]
    }
   ],
   "source": [
    "seconds_per_day = seconds_per_hour * 24\n",
    "print(seconds_per_day)"
   ]
  },
  {
   "cell_type": "markdown",
   "id": "c14e0cbd-3039-43d4-b04a-ee410888f5b4",
   "metadata": {},
   "source": [
    "# 3.5"
   ]
  },
  {
   "cell_type": "code",
   "execution_count": 40,
   "id": "b5c9c727-9145-4091-bfd0-895268597834",
   "metadata": {},
   "outputs": [
    {
     "name": "stdout",
     "output_type": "stream",
     "text": [
      "24.0\n"
     ]
    }
   ],
   "source": [
    "print(seconds_per_day / seconds_per_hour)"
   ]
  },
  {
   "cell_type": "markdown",
   "id": "12c82f06-4b1e-4c9a-aecf-20d86113b0bc",
   "metadata": {},
   "source": [
    "# 3.6: This agrees with the floating-point value"
   ]
  },
  {
   "cell_type": "code",
   "execution_count": 41,
   "id": "215cffa2-9816-4c1a-9ef6-b940113e80e0",
   "metadata": {},
   "outputs": [
    {
     "name": "stdout",
     "output_type": "stream",
     "text": [
      "24\n"
     ]
    }
   ],
   "source": [
    "print(seconds_per_day // seconds_per_hour)"
   ]
  }
 ],
 "metadata": {
  "kernelspec": {
   "display_name": "Python [conda env:base] *",
   "language": "python",
   "name": "conda-base-py"
  },
  "language_info": {
   "codemirror_mode": {
    "name": "ipython",
    "version": 3
   },
   "file_extension": ".py",
   "mimetype": "text/x-python",
   "name": "python",
   "nbconvert_exporter": "python",
   "pygments_lexer": "ipython3",
   "version": "3.12.7"
  },
  "panel-cell-order": [
   "6d7fd0ec-e9dd-4afc-913d-5c38ca5c7a35"
  ]
 },
 "nbformat": 4,
 "nbformat_minor": 5
}
